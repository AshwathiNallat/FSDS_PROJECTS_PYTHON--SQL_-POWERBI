{
 "cells": [
  {
   "cell_type": "markdown",
   "id": "27349114",
   "metadata": {},
   "source": [
    "### 1. Write a Python Program to find sum of array?"
   ]
  },
  {
   "cell_type": "code",
   "execution_count": 1,
   "id": "74f8faad-8791-47c4-ab6d-cb464aaead90",
   "metadata": {
    "tags": []
   },
   "outputs": [
    {
     "name": "stdin",
     "output_type": "stream",
     "text": [
      "Please enter rows 2\n",
      "Please enter columns 2\n",
      "Please enter elements 4\n",
      "Please enter elements 9\n",
      "Please enter elements 7\n",
      "Please enter elements 4\n"
     ]
    },
    {
     "data": {
      "text/plain": [
       "24"
      ]
     },
     "execution_count": 1,
     "metadata": {},
     "output_type": "execute_result"
    }
   ],
   "source": [
    "import numpy as np\n",
    "a= int(input(\"Please enter rows\"))\n",
    "b=int(input(\"Please enter columns\"))\n",
    "matrix=[]\n",
    "for i in range(a):\n",
    "    ele= []\n",
    "    for j in range(b):        \n",
    "        a= int(input(\"Please enter elements\"))\n",
    "        ele.append(a)\n",
    "    matrix.append(ele)\n",
    "\n",
    "matrix= np.array(matrix)\n",
    "np.sum(matrix)   \n"
   ]
  },
  {
   "cell_type": "markdown",
   "id": "171a980d",
   "metadata": {},
   "source": [
    "### 2. Write a Python Program to find largest element in an array?\n"
   ]
  },
  {
   "cell_type": "code",
   "execution_count": 7,
   "id": "5f6297d6-187f-4765-85c8-4260505fbc25",
   "metadata": {},
   "outputs": [
    {
     "name": "stdin",
     "output_type": "stream",
     "text": [
      "Please enter rows 2\n",
      "Please enter columns 2\n",
      "Please enter elements 4\n",
      "Please enter elements 9\n",
      "Please enter elements 6\n",
      "Please enter elements 8\n"
     ]
    },
    {
     "data": {
      "text/plain": [
       "9"
      ]
     },
     "execution_count": 7,
     "metadata": {},
     "output_type": "execute_result"
    }
   ],
   "source": [
    "import numpy as np\n",
    "a= int(input(\"Please enter rows\"))\n",
    "b=int(input(\"Please enter columns\"))\n",
    "matrix=[]\n",
    "for i in range(a):\n",
    "    ele= []\n",
    "    for j in range(b):        \n",
    "        a= int(input(\"Please enter elements\"))\n",
    "        ele.append(a)\n",
    "    matrix.append(ele)\n",
    "\n",
    "matrix= np.array(matrix)\n",
    "\n",
    "np.max(matrix)"
   ]
  },
  {
   "cell_type": "markdown",
   "id": "21613246",
   "metadata": {},
   "source": [
    "### 3. Write a Python Program for array rotation?"
   ]
  },
  {
   "cell_type": "code",
   "execution_count": 8,
   "id": "697685bd-fe00-429e-9e8e-352908dd975a",
   "metadata": {},
   "outputs": [
    {
     "name": "stdin",
     "output_type": "stream",
     "text": [
      "Please enter rows 2\n",
      "Please enter columns 2\n",
      "Please enter elements 1\n",
      "Please enter elements 2\n",
      "Please enter elements 3\n",
      "Please enter elements 4\n"
     ]
    },
    {
     "data": {
      "text/plain": [
       "array([[1, 3],\n",
       "       [2, 4]])"
      ]
     },
     "execution_count": 8,
     "metadata": {},
     "output_type": "execute_result"
    }
   ],
   "source": [
    "import numpy as np\n",
    "a= int(input(\"Please enter rows\"))\n",
    "b=int(input(\"Please enter columns\"))\n",
    "matrix=[]\n",
    "for i in range(a):\n",
    "    ele= []\n",
    "    for j in range(b):        \n",
    "        a= int(input(\"Please enter elements\"))\n",
    "        ele.append(a)\n",
    "    matrix.append(ele)\n",
    "\n",
    "matrix= np.array(matrix)\n",
    "\n",
    "np.transpose(matrix)"
   ]
  },
  {
   "cell_type": "markdown",
   "id": "3e52d939",
   "metadata": {},
   "source": [
    "### 4. Write a Python Program to Split the array and add the first part to the end?"
   ]
  },
  {
   "cell_type": "code",
   "execution_count": 8,
   "id": "5ae7bdad-1b0d-48c3-a6c5-cd58c4411141",
   "metadata": {},
   "outputs": [
    {
     "name": "stdout",
     "output_type": "stream",
     "text": [
      "5 6 52 36 12 10 "
     ]
    }
   ],
   "source": [
    "arr = [12, 10, 5, 6, 52, 36]\n",
    "n = len(arr)\n",
    "position = 2\n",
    "x = arr[:position]\n",
    "y = arr[position:]\n",
    "y.extend(x)\n",
    "for i in y:\n",
    "    print(i, end=\" \")"
   ]
  },
  {
   "cell_type": "markdown",
   "id": "aa375779",
   "metadata": {},
   "source": [
    "### 5. Write a Python Program to check if given array is Monotonic?"
   ]
  },
  {
   "cell_type": "code",
   "execution_count": 26,
   "id": "04f01196-1b7a-4d4a-aef5-e8ab9f8eca93",
   "metadata": {},
   "outputs": [
    {
     "name": "stdin",
     "output_type": "stream",
     "text": [
      "Please enter number of elements 3\n",
      "Please enter number of elements 6\n",
      "Please enter number of elements 7\n",
      "Please enter number of elements 3\n"
     ]
    },
    {
     "name": "stdout",
     "output_type": "stream",
     "text": [
      "not monotonic\n"
     ]
    }
   ],
   "source": [
    "\n",
    "A = []\n",
    "\n",
    "b=int(input(\"Please enter number of elements\"))\n",
    "for i in range(b):\n",
    "    c=int(input(\"Please enter number of elements\"))\n",
    "    A.append(c)\n",
    "    \n",
    "A=np.array(A)\n",
    "\n",
    "x, y = [], []\n",
    "x.extend(A)\n",
    "y.extend(A)\n",
    "x.sort()\n",
    "y.sort(reverse=True)\n",
    "x=np.array(x)\n",
    "y=np.array(y)\n",
    "if(x.all == A.all or y.all == A.all):\n",
    "    print(\"monotonic\")\n",
    "else:\n",
    "    print(\"not monotonic\")\n",
    "    \n",
    " \n",
    "\n"
   ]
  }
 ],
 "metadata": {
  "kernelspec": {
   "display_name": "Python 3 (ipykernel)",
   "language": "python",
   "name": "python3"
  },
  "language_info": {
   "codemirror_mode": {
    "name": "ipython",
    "version": 3
   },
   "file_extension": ".py",
   "mimetype": "text/x-python",
   "name": "python",
   "nbconvert_exporter": "python",
   "pygments_lexer": "ipython3",
   "version": "3.10.6"
  }
 },
 "nbformat": 4,
 "nbformat_minor": 5
}
