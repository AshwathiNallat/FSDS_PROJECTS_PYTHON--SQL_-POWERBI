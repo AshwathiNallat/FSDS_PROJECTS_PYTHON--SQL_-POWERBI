{
 "cells": [
  {
   "cell_type": "markdown",
   "id": "c725f7a9",
   "metadata": {},
   "source": [
    "### 1. Write a Python program to check if the given number is a Disarium Number?"
   ]
  },
  {
   "cell_type": "code",
   "execution_count": 10,
   "id": "33673722-e5d2-4481-b8b3-eab8413ed7d0",
   "metadata": {},
   "outputs": [
    {
     "name": "stdin",
     "output_type": "stream",
     "text": [
      "enter the number 12\n"
     ]
    },
    {
     "name": "stdout",
     "output_type": "stream",
     "text": [
      "5\n",
      "not equal\n"
     ]
    }
   ],
   "source": [
    "a= int(input(\"enter the number\"))\n",
    "n=str(a)\n",
    "m=len(n)\n",
    "sum1=0\n",
    "for i in range(0,m):\n",
    "    sum1=sum1+ (int(n[i])**(i+1))\n",
    "\n",
    "if(sum1==a):\n",
    "    print(\"Disarium Number\")\n",
    "else:\n",
    "    print(\"not Disarium Number\")\n",
    "               "
   ]
  },
  {
   "cell_type": "markdown",
   "id": "f0064401",
   "metadata": {},
   "source": [
    "### 2. Write a Python program to print all disarium numbers between 1 to 100?"
   ]
  },
  {
   "cell_type": "code",
   "execution_count": 11,
   "id": "67e91cf0-cd43-4720-abc5-50b5d1745e35",
   "metadata": {},
   "outputs": [
    {
     "name": "stdout",
     "output_type": "stream",
     "text": [
      "1\n",
      "2\n",
      "3\n",
      "4\n",
      "5\n",
      "6\n",
      "7\n",
      "8\n",
      "9\n",
      "89\n"
     ]
    }
   ],
   "source": [
    "for a in range(1,100+1):\n",
    "    n=str(a)\n",
    "    m=len(n)\n",
    "    sum1=0\n",
    "    for i in range(0,m):\n",
    "        sum1=sum1+ (int(n[i])**(i+1))\n",
    "\n",
    "    if(sum1==a):\n",
    "        print(a)\n",
    "    else:\n",
    "        continue\n",
    "    "
   ]
  },
  {
   "cell_type": "markdown",
   "id": "31df1e4a",
   "metadata": {},
   "source": [
    "### 3. Write a Python program to check if the given number is Happy Number?"
   ]
  },
  {
   "cell_type": "code",
   "execution_count": 20,
   "id": "2ddd22d2-a8da-4a28-8f82-01d08d9c516b",
   "metadata": {},
   "outputs": [
    {
     "name": "stdin",
     "output_type": "stream",
     "text": [
      "enter the number 12\n"
     ]
    },
    {
     "name": "stdout",
     "output_type": "stream",
     "text": [
      "12 is not a happy number\n"
     ]
    }
   ],
   "source": [
    "def isHappyNumber(num):    \n",
    "    rem = sum = 0;    \n",
    "        \n",
    "    #Calculates the sum of squares of digits    \n",
    "    while(num > 0):    \n",
    "        rem = num%10;    \n",
    "        sum = sum + (rem*rem);    \n",
    "        num = num//10;    \n",
    "    return sum;    \n",
    "        \n",
    "num = int(input(\"enter the number\") )   \n",
    "result = num;    \n",
    "     \n",
    "while(result != 1 and result != 4):    \n",
    "    result = isHappyNumber(result);    \n",
    "     \n",
    "#Happy number always ends with 1    \n",
    "if(result == 1):    \n",
    "    print(str(num) + \" is a happy number\");    \n",
    "#Unhappy number ends in a cycle of repeating numbers which contain 4    \n",
    "elif(result == 4):    \n",
    "    print(str(num) + \" is not a happy number\");  "
   ]
  },
  {
   "cell_type": "markdown",
   "id": "51b265e3",
   "metadata": {},
   "source": [
    "### 4. Write a Python program to print all happy numbers between 1 and 100?"
   ]
  },
  {
   "cell_type": "code",
   "execution_count": null,
   "id": "6e2001f3-776b-4830-a913-d367d4d4c1af",
   "metadata": {},
   "outputs": [],
   "source": [
    "def isHappyNumber(num):    \n",
    "    rem = sum = 0;    \n",
    "        \n",
    "    #Calculates the sum of squares of digits    \n",
    "    while(num > 0):    \n",
    "        rem = num%10;    \n",
    "        sum = sum + (rem*rem);    \n",
    "        num = num//10;    \n",
    "    return sum;    \n",
    "        \n",
    " \n",
    "    \n",
    "for num in range(1,100+1): \n",
    "    result = num;\n",
    "    while(result != 1 and result != 4):    \n",
    "        result = isHappyNumber(result);    \n",
    "     \n",
    "   \n",
    "    if(result == 1):    \n",
    "        print(num);    \n",
    "    #Unhappy number ends in a cycle of repeating numbers which contain 4    \n",
    "    elif(result == 4):    \n",
    "        continue"
   ]
  },
  {
   "cell_type": "markdown",
   "id": "6a190ee0",
   "metadata": {},
   "source": [
    "### 5. Write a Python program to determine whether the given number is a Harshad Number?"
   ]
  },
  {
   "cell_type": "code",
   "execution_count": 29,
   "id": "f6c7e415-9077-4f46-936f-dd0fa8655d40",
   "metadata": {},
   "outputs": [
    {
     "name": "stdin",
     "output_type": "stream",
     "text": [
      "enter the number 156\n"
     ]
    },
    {
     "name": "stdout",
     "output_type": "stream",
     "text": [
      "harshad Number\n"
     ]
    }
   ],
   "source": [
    "a= int(input(\"enter the number\"))\n",
    "n=str(a)\n",
    "m=len(n)\n",
    "sum1=0\n",
    "for i in range(0,m):\n",
    "    sum1=sum1+ int(n[i])\n",
    "\n",
    "if(a%sum1==0):\n",
    "    print(\"harshad Number\")\n",
    "else:\n",
    "    print(\"not harshad Number\")"
   ]
  },
  {
   "cell_type": "markdown",
   "id": "7a7ea92e",
   "metadata": {},
   "source": [
    "### 6. Write a Python program to print all pronic numbers between 1 and 100?"
   ]
  },
  {
   "cell_type": "code",
   "execution_count": 30,
   "id": "20ed7f20-deda-44f2-9ba5-569112d3a2a4",
   "metadata": {},
   "outputs": [
    {
     "name": "stdout",
     "output_type": "stream",
     "text": [
      "2   6   12   20   30   42   56   72   90   "
     ]
    }
   ],
   "source": [
    "def checkPronic(Number):\n",
    "    i = 0\n",
    "    flag = 0\n",
    "    while i <= Number:\n",
    "        if Number == i * (i + 1):\n",
    "            flag = 1\n",
    "            break\n",
    "        i = i + 1\n",
    "    return flag\n",
    "\n",
    "\n",
    "for i in range(1, 100+1):\n",
    "    if(checkPronic(i) == 1):\n",
    "        print(i, end = '   ')"
   ]
  }
 ],
 "metadata": {
  "kernelspec": {
   "display_name": "Python 3 (ipykernel)",
   "language": "python",
   "name": "python3"
  },
  "language_info": {
   "codemirror_mode": {
    "name": "ipython",
    "version": 3
   },
   "file_extension": ".py",
   "mimetype": "text/x-python",
   "name": "python",
   "nbconvert_exporter": "python",
   "pygments_lexer": "ipython3",
   "version": "3.10.6"
  }
 },
 "nbformat": 4,
 "nbformat_minor": 5
}
