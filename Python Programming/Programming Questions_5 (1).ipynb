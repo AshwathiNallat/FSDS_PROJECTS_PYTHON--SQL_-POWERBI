{
 "cells": [
  {
   "cell_type": "markdown",
   "id": "fdaeee06",
   "metadata": {},
   "source": [
    "### 1. Write a Python Program to Find LCM?"
   ]
  },
  {
   "cell_type": "code",
   "execution_count": 1,
   "id": "28712a45-9e62-41d4-8c7c-58993d76121a",
   "metadata": {},
   "outputs": [
    {
     "name": "stdin",
     "output_type": "stream",
     "text": [
      "Enter the 1st number 3\n",
      "Enter the 2nd number 4\n"
     ]
    },
    {
     "name": "stdout",
     "output_type": "stream",
     "text": [
      " The LCM is 12\n"
     ]
    }
   ],
   "source": [
    "def highestfact(a,b):\n",
    "    if a > b:  \n",
    "        greater = x  \n",
    "    else:  \n",
    "        greater = y  \n",
    "    while(True):  \n",
    "        if((greater % x == 0) and (greater % y == 0)):  \n",
    "            lcm = greater  \n",
    "            break  \n",
    "        greater += 1  \n",
    "    return lcm \n",
    "\n",
    "x= int(input(\"Enter the 1st number\"))\n",
    "y= int(input(\"Enter the 2nd number\"))\n",
    "print(\" The LCM is\", highestfact(x,y))"
   ]
  },
  {
   "cell_type": "markdown",
   "id": "2f459cdf",
   "metadata": {},
   "source": [
    "### 2. Write a Python Program to Find HCF?"
   ]
  },
  {
   "cell_type": "code",
   "execution_count": 7,
   "id": "89e4b676-6225-4a0c-b94b-25ca4e2e9044",
   "metadata": {},
   "outputs": [
    {
     "name": "stdin",
     "output_type": "stream",
     "text": [
      "Enter the 1st number 54\n",
      "Enter the 2nd number 24\n"
     ]
    },
    {
     "name": "stdout",
     "output_type": "stream",
     "text": [
      " The HCF is 6\n"
     ]
    }
   ],
   "source": [
    "def highestfact(a,b):\n",
    "    if a>b:\n",
    "        small=b\n",
    "    else:\n",
    "        small=a\n",
    "    for i in range(1,small+1):\n",
    "        if(a%i==0 and b%i==0):\n",
    "            hcf=i\n",
    "    return hcf\n",
    "\n",
    "x= int(input(\"Enter the 1st number\"))\n",
    "y= int(input(\"Enter the 2nd number\"))\n",
    "print(\" The HCF is\", highestfact(x,y))"
   ]
  },
  {
   "cell_type": "markdown",
   "id": "d2c29370",
   "metadata": {
    "tags": []
   },
   "source": [
    "### 3. Write a Python Program to Convert Decimal to Binary, Octal and Hexadecimal?"
   ]
  },
  {
   "cell_type": "code",
   "execution_count": 4,
   "id": "a25f6a83-5c0d-4049-ac27-eda42d83b1f3",
   "metadata": {},
   "outputs": [
    {
     "name": "stdin",
     "output_type": "stream",
     "text": [
      "Enter the decimal 344\n"
     ]
    },
    {
     "name": "stdout",
     "output_type": "stream",
     "text": [
      "The Binary, Octal and Hexadecimal are : 0b101011000 0o530 0x158\n"
     ]
    }
   ],
   "source": [
    "num= int(input(\"Enter the decimal\"))\n",
    "print(\"The Binary, Octal and Hexadecimal are :\", bin(num), oct(num), hex(num))"
   ]
  },
  {
   "cell_type": "markdown",
   "id": "2a16c5fd",
   "metadata": {},
   "source": [
    "### 4. Write a Python Program To Find ASCII value of a character?"
   ]
  },
  {
   "cell_type": "code",
   "execution_count": 1,
   "id": "d882652b-2924-46e2-9a6d-e969aa507dcc",
   "metadata": {},
   "outputs": [
    {
     "name": "stdin",
     "output_type": "stream",
     "text": [
      " a\n"
     ]
    },
    {
     "name": "stdout",
     "output_type": "stream",
     "text": [
      "The ASCII value of 'a' is 97\n"
     ]
    }
   ],
   "source": [
    "a= input(\"Enter the character\")\n",
    "print(\"The ASCII value of '\" + c + \"' is\", ord(a))"
   ]
  },
  {
   "cell_type": "markdown",
   "id": "226778a0",
   "metadata": {
    "tags": []
   },
   "source": [
    "### 5. Write a Python Program to Make a Simple Calculator with 4 basic mathematical operations?"
   ]
  },
  {
   "cell_type": "code",
   "execution_count": 2,
   "id": "57242555-da0c-4b43-bcd1-9fa6d2da8016",
   "metadata": {},
   "outputs": [
    {
     "name": "stdin",
     "output_type": "stream",
     "text": [
      "Please enter 1 for addition , 2 for division, enter 3 for multiplication, 4 for subtraction 3\n",
      "enter the first number 20\n",
      "enter the second number 10\n"
     ]
    },
    {
     "name": "stdout",
     "output_type": "stream",
     "text": [
      "200\n"
     ]
    }
   ],
   "source": [
    "def arith(a,b,n):\n",
    "    if n==1:\n",
    "        res= a+b\n",
    "    elif n==2:\n",
    "        res= a//b\n",
    "    elif n==3:\n",
    "        res= a*b\n",
    "    elif n==4:\n",
    "        res= a-b\n",
    "    else:\n",
    "        res= \"please enter any other number\"\n",
    "    return  res\n",
    "        \n",
    "x=int(input(\"Please enter 1 for addition , 2 for division, enter 3 for multiplication, 4 for subtraction\"))\n",
    "j=int(input(\"enter the first number\"))\n",
    "i=int(input(\"enter the second number\"))\n",
    "\n",
    "print(arith(i,j,x))"
   ]
  },
  {
   "cell_type": "code",
   "execution_count": null,
   "id": "44308bef-29e9-47a2-b5b7-cd6a98a9e248",
   "metadata": {},
   "outputs": [],
   "source": []
  }
 ],
 "metadata": {
  "kernelspec": {
   "display_name": "Python 3 (ipykernel)",
   "language": "python",
   "name": "python3"
  },
  "language_info": {
   "codemirror_mode": {
    "name": "ipython",
    "version": 3
   },
   "file_extension": ".py",
   "mimetype": "text/x-python",
   "name": "python",
   "nbconvert_exporter": "python",
   "pygments_lexer": "ipython3",
   "version": "3.10.6"
  }
 },
 "nbformat": 4,
 "nbformat_minor": 5
}
