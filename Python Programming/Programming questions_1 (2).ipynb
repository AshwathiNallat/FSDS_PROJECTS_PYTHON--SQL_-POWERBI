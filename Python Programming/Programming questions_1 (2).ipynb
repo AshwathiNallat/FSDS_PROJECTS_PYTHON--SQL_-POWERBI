{
 "cells": [
  {
   "cell_type": "markdown",
   "id": "637b47a5",
   "metadata": {
    "tags": []
   },
   "source": [
    "## Programming Questions_1\n",
    "-------------"
   ]
  },
  {
   "cell_type": "markdown",
   "id": "0c647dbe",
   "metadata": {},
   "source": [
    "### 1. Write a Python program to print \"Hello Python\"?"
   ]
  },
  {
   "cell_type": "code",
   "execution_count": 1,
   "id": "b30c9612-09e2-4175-afd9-cc7d8af03b07",
   "metadata": {},
   "outputs": [
    {
     "name": "stdout",
     "output_type": "stream",
     "text": [
      "Hello Python\n"
     ]
    }
   ],
   "source": [
    "print(\"Hello Python\")"
   ]
  },
  {
   "cell_type": "markdown",
   "id": "fc18a6cd",
   "metadata": {},
   "source": [
    "### 2. Write a Python program to do arithmetical operations addition and division.?\n"
   ]
  },
  {
   "cell_type": "code",
   "execution_count": 7,
   "id": "cf2e7f1b-812b-4cf8-9063-2181f3ff8ec8",
   "metadata": {},
   "outputs": [
    {
     "name": "stdin",
     "output_type": "stream",
     "text": [
      "Please enter 1 for addition and 2 for division 4\n",
      " 45\n",
      " 3\n"
     ]
    },
    {
     "name": "stdout",
     "output_type": "stream",
     "text": [
      "Invalid\n"
     ]
    }
   ],
   "source": [
    "def arith(a,b,n):\n",
    "    if n==1:\n",
    "        res= a+b\n",
    "    elif n==2:\n",
    "        res= a//b\n",
    "    else:\n",
    "        res= \"Invalid\"\n",
    "    return  res\n",
    "        \n",
    "x=int(input(\"Please enter 1 for addition and 2 for division\"))\n",
    "i= int(input())\n",
    "j=int(input())\n",
    "\n",
    "print(arith(i,j,x))\n",
    "\n",
    "        \n",
    "    "
   ]
  },
  {
   "cell_type": "markdown",
   "id": "af6e2429",
   "metadata": {},
   "source": [
    "### 3. Write a Python program to find the area of a triangle?\n"
   ]
  },
  {
   "cell_type": "code",
   "execution_count": 9,
   "id": "4af96d58-8f83-4a68-9dde-5ea2fd1c75d8",
   "metadata": {},
   "outputs": [
    {
     "name": "stdin",
     "output_type": "stream",
     "text": [
      "Please enter breadth 4\n",
      "Please enter height 5\n"
     ]
    },
    {
     "name": "stdout",
     "output_type": "stream",
     "text": [
      "10\n"
     ]
    }
   ],
   "source": [
    "def area(b,h):\n",
    "    a= 0.5*b*h\n",
    "    \n",
    "    return int(a)\n",
    "\n",
    "a= int(input(\"Please enter breadth\"))\n",
    "b=int(input(\"Please enter height\"))\n",
    "print(area(a,b))"
   ]
  },
  {
   "cell_type": "markdown",
   "id": "b8140061",
   "metadata": {},
   "source": [
    "### 4. Write a Python program to swap two variables?\n"
   ]
  },
  {
   "cell_type": "code",
   "execution_count": 14,
   "id": "e9ddf101-4e45-4d82-b26a-d8c429d68515",
   "metadata": {},
   "outputs": [
    {
     "name": "stdin",
     "output_type": "stream",
     "text": [
      "Please enter 1st variable 34\n",
      "Please enter 2nd variable 56\n"
     ]
    },
    {
     "name": "stdout",
     "output_type": "stream",
     "text": [
      "56 34\n"
     ]
    }
   ],
   "source": [
    "a= input(\"Please enter 1st variable\")\n",
    "b= input(\"Please enter 2nd variable\")\n",
    "\n",
    "def swap(n,m):\n",
    "    temp= n\n",
    "    n=m\n",
    "    m=temp\n",
    "    \n",
    "    print(n,m)\n",
    "    \n",
    "\n",
    "swap(a,b)\n"
   ]
  },
  {
   "cell_type": "markdown",
   "id": "3f8054c1",
   "metadata": {},
   "source": [
    "### 5. Write a Python program to generate a random number?\n"
   ]
  },
  {
   "cell_type": "code",
   "execution_count": 27,
   "id": "1417288f-0e57-4c6f-907e-f3853a74539c",
   "metadata": {},
   "outputs": [
    {
     "name": "stdout",
     "output_type": "stream",
     "text": [
      "21\n"
     ]
    }
   ],
   "source": [
    "import random\n",
    "\n",
    "a= random.randint(1,100)\n",
    "print(a)"
   ]
  },
  {
   "cell_type": "code",
   "execution_count": null,
   "id": "8ae5cf98-943a-4e9d-b82f-1a61a95b9e86",
   "metadata": {},
   "outputs": [],
   "source": []
  }
 ],
 "metadata": {
  "kernelspec": {
   "display_name": "Python 3 (ipykernel)",
   "language": "python",
   "name": "python3"
  },
  "language_info": {
   "codemirror_mode": {
    "name": "ipython",
    "version": 3
   },
   "file_extension": ".py",
   "mimetype": "text/x-python",
   "name": "python",
   "nbconvert_exporter": "python",
   "pygments_lexer": "ipython3",
   "version": "3.10.6"
  }
 },
 "nbformat": 4,
 "nbformat_minor": 5
}
