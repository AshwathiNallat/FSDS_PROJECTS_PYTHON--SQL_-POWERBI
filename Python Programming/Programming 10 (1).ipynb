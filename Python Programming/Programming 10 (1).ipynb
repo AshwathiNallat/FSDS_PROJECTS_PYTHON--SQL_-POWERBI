{
 "cells": [
  {
   "cell_type": "markdown",
   "id": "6720790a",
   "metadata": {},
   "source": [
    "### 1. Write a Python program to find sum of elements in list?"
   ]
  },
  {
   "cell_type": "code",
   "execution_count": 2,
   "id": "87ff9f66-eb42-4e73-a553-29417c6bd6a3",
   "metadata": {},
   "outputs": [
    {
     "data": {
      "text/plain": [
       "30"
      ]
     },
     "execution_count": 2,
     "metadata": {},
     "output_type": "execute_result"
    }
   ],
   "source": [
    "a=[4,5,6,7,8]\n",
    "sum=0\n",
    "for i in range(len(a)):\n",
    "    sum=sum+a[i]\n",
    "\n",
    "sum\n"
   ]
  },
  {
   "cell_type": "markdown",
   "id": "fe1137c3",
   "metadata": {},
   "source": [
    "### 2. Write a Python program to  Multiply all numbers in the list?"
   ]
  },
  {
   "cell_type": "code",
   "execution_count": 4,
   "id": "f96640f0-97cb-40f2-8e15-eede67116b9d",
   "metadata": {},
   "outputs": [
    {
     "data": {
      "text/plain": [
       "6720"
      ]
     },
     "execution_count": 4,
     "metadata": {},
     "output_type": "execute_result"
    }
   ],
   "source": [
    "a=[4,5,6,7,8]\n",
    "mul=1\n",
    "for i in range(len(a)):\n",
    "    mul=mul*a[i]\n",
    "\n",
    "mul"
   ]
  },
  {
   "cell_type": "markdown",
   "id": "914223c9-adea-4c27-97df-8841444f3c6c",
   "metadata": {},
   "source": [
    " 3. Write a Python program to find smallest number in a list?"
   ]
  },
  {
   "cell_type": "code",
   "execution_count": 6,
   "id": "0be3add4-caf1-4dd4-aead-f60335db78ee",
   "metadata": {},
   "outputs": [
    {
     "data": {
      "text/plain": [
       "2"
      ]
     },
     "execution_count": 6,
     "metadata": {},
     "output_type": "execute_result"
    }
   ],
   "source": [
    "a=[5,6,2,7,8]\n",
    "min(a)"
   ]
  },
  {
   "cell_type": "markdown",
   "id": "12b04397",
   "metadata": {},
   "source": [
    "### 4. Write a Python program to find largest number in a list?"
   ]
  },
  {
   "cell_type": "code",
   "execution_count": 7,
   "id": "295f4043-a128-4ecc-a66b-16dc93820f4e",
   "metadata": {},
   "outputs": [
    {
     "data": {
      "text/plain": [
       "8"
      ]
     },
     "execution_count": 7,
     "metadata": {},
     "output_type": "execute_result"
    }
   ],
   "source": [
    "a=[5,6,2,7,8]\n",
    "max(a)"
   ]
  },
  {
   "cell_type": "markdown",
   "id": "86442b51",
   "metadata": {},
   "source": [
    "### 5. Write a Python program to find second largest number in a list?"
   ]
  },
  {
   "cell_type": "code",
   "execution_count": 13,
   "id": "2ca455dc-8884-417b-a9a3-47324b06acef",
   "metadata": {},
   "outputs": [
    {
     "data": {
      "text/plain": [
       "5"
      ]
     },
     "execution_count": 13,
     "metadata": {},
     "output_type": "execute_result"
    }
   ],
   "source": [
    "a=[5,6,2,7,8]\n",
    "a.sort()\n",
    "a[1]"
   ]
  },
  {
   "cell_type": "markdown",
   "id": "10964d7d",
   "metadata": {},
   "source": [
    "### 6. Write a Python program to find N largest elements from a list?"
   ]
  },
  {
   "cell_type": "code",
   "execution_count": null,
   "id": "4051e6cb-9d34-4620-90a2-cebf202c147c",
   "metadata": {},
   "outputs": [],
   "source": [
    "a=[5,6,2,7,8]\n",
    "a.sort()\n",
    "b=a[::-1]\n",
    "n= int(input(\"Please Enter the value\"))"
   ]
  },
  {
   "cell_type": "markdown",
   "id": "2f1a1e98",
   "metadata": {},
   "source": [
    "### 7. Write a Python program to print even numbers in a list?"
   ]
  },
  {
   "cell_type": "code",
   "execution_count": 23,
   "id": "64c75341-33f9-474d-805b-f4fe3c81149e",
   "metadata": {},
   "outputs": [
    {
     "data": {
      "text/plain": [
       "[6, 2, 8]"
      ]
     },
     "execution_count": 23,
     "metadata": {},
     "output_type": "execute_result"
    }
   ],
   "source": [
    "a=[5,6,2,7,8]\n",
    "even=[]\n",
    "for i in a:\n",
    "    if (i%2==0):\n",
    "        even.append(i)\n",
    "even"
   ]
  },
  {
   "cell_type": "markdown",
   "id": "989bb324",
   "metadata": {},
   "source": [
    "### 8. Write a Python program to print odd numbers in a List?"
   ]
  },
  {
   "cell_type": "code",
   "execution_count": 17,
   "id": "9c815ed7-5488-4ada-aa36-00d4061e2399",
   "metadata": {},
   "outputs": [
    {
     "data": {
      "text/plain": [
       "[5, 7]"
      ]
     },
     "execution_count": 17,
     "metadata": {},
     "output_type": "execute_result"
    }
   ],
   "source": [
    "a=[5,6,2,7,8]\n",
    "odd=[]\n",
    "for i in a:\n",
    "    if (i%2!=0):\n",
    "        odd.append(i)\n",
    "odd"
   ]
  },
  {
   "cell_type": "markdown",
   "id": "185b7b13",
   "metadata": {},
   "source": [
    "### 9. Write a Python program to Remove empty List from List?"
   ]
  },
  {
   "cell_type": "code",
   "execution_count": 27,
   "id": "5866d88f-bec1-408a-a0db-8feb5507df73",
   "metadata": {},
   "outputs": [
    {
     "data": {
      "text/plain": [
       "[5, 6, [2, 3], 2, 7, 8]"
      ]
     },
     "execution_count": 27,
     "metadata": {},
     "output_type": "execute_result"
    }
   ],
   "source": [
    "list1= [5,6,[2,3],[],[],2,7,8]\n",
    "list2 = [x for x in list1 if x]\n",
    "list2\n"
   ]
  },
  {
   "cell_type": "markdown",
   "id": "278cfacc",
   "metadata": {},
   "source": [
    "### 10. Write a Python program to Cloning or Copying a list?"
   ]
  },
  {
   "cell_type": "code",
   "execution_count": 19,
   "id": "9a911aaa-f57b-4d2e-9616-d8e0e998b1b2",
   "metadata": {},
   "outputs": [
    {
     "data": {
      "text/plain": [
       "[5, 6, 2, 7, 8]"
      ]
     },
     "execution_count": 19,
     "metadata": {},
     "output_type": "execute_result"
    }
   ],
   "source": [
    "a=[5,6,2,7,8]\n",
    "b= a.copy()\n",
    "b"
   ]
  },
  {
   "cell_type": "markdown",
   "id": "b359bedf",
   "metadata": {},
   "source": [
    "### 11. Write a Python program to Count occurrences of an element in a list?"
   ]
  },
  {
   "cell_type": "code",
   "execution_count": 21,
   "id": "0b6eb337-14f0-4962-9c30-69ff5dfc0ea3",
   "metadata": {},
   "outputs": [
    {
     "name": "stdin",
     "output_type": "stream",
     "text": [
      "enter the element 6\n"
     ]
    },
    {
     "data": {
      "text/plain": [
       "2"
      ]
     },
     "execution_count": 21,
     "metadata": {},
     "output_type": "execute_result"
    }
   ],
   "source": [
    "a=[5,6,6,2,7,8]\n",
    "n=int(input(\"enter the element\"))\n",
    "a.count(n)"
   ]
  },
  {
   "cell_type": "code",
   "execution_count": null,
   "id": "9b0726da-09a1-4671-8a32-877763c597c2",
   "metadata": {},
   "outputs": [],
   "source": []
  }
 ],
 "metadata": {
  "kernelspec": {
   "display_name": "Python 3 (ipykernel)",
   "language": "python",
   "name": "python3"
  },
  "language_info": {
   "codemirror_mode": {
    "name": "ipython",
    "version": 3
   },
   "file_extension": ".py",
   "mimetype": "text/x-python",
   "name": "python",
   "nbconvert_exporter": "python",
   "pygments_lexer": "ipython3",
   "version": "3.10.6"
  }
 },
 "nbformat": 4,
 "nbformat_minor": 5
}
