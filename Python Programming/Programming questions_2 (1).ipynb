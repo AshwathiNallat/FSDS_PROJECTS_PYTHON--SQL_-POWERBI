{
 "cells": [
  {
   "cell_type": "markdown",
   "id": "08c66ea5",
   "metadata": {
    "id": "08c66ea5"
   },
   "source": []
  },
  {
   "cell_type": "markdown",
   "id": "4e50cf42",
   "metadata": {
    "id": "4e50cf42"
   },
   "source": [
    "1. Write a Python program to convert kilometers to miles?\n"
   ]
  },
  {
   "cell_type": "code",
   "execution_count": 3,
   "id": "d3df32ed-5a68-44fc-9a4a-614524b7ab65",
   "metadata": {},
   "outputs": [
    {
     "name": "stdin",
     "output_type": "stream",
     "text": [
      "please enter the kilometer u want to convert 6\n"
     ]
    },
    {
     "name": "stdout",
     "output_type": "stream",
     "text": [
      "3.7282\n"
     ]
    }
   ],
   "source": [
    "def mile(n):\n",
    "    res= n*0.621371\n",
    "    res= round(res, 4)\n",
    "    return res\n",
    "\n",
    "print(mile(int(input(\"please enter the kilometer u want to convert\"))))\n",
    "      "
   ]
  },
  {
   "cell_type": "markdown",
   "id": "0df4e6bf",
   "metadata": {
    "id": "0df4e6bf"
   },
   "source": [
    "### 2.Write a Python program to convert Celsius to Fahrenheit?"
   ]
  },
  {
   "cell_type": "code",
   "execution_count": 4,
   "id": "156fa985-8176-4330-9484-300776a1cfda",
   "metadata": {},
   "outputs": [
    {
     "name": "stdin",
     "output_type": "stream",
     "text": [
      "please enter the Celcius u want to convert 4\n"
     ]
    },
    {
     "name": "stdout",
     "output_type": "stream",
     "text": [
      "39.2\n"
     ]
    }
   ],
   "source": [
    "a= int (input(\"please enter the Celcius u want to convert\"))\n",
    "def celsius(cel):\n",
    "    fah= (cel*1.8)+32\n",
    "    return fah\n",
    "print(celsius(a))"
   ]
  },
  {
   "cell_type": "markdown",
   "id": "46129b8e",
   "metadata": {
    "id": "46129b8e"
   },
   "source": [
    "3. Write a Python program to display calendar?\n"
   ]
  },
  {
   "cell_type": "code",
   "execution_count": 12,
   "id": "63fe4ef1-880e-4c74-bf06-f9d26512bdba",
   "metadata": {},
   "outputs": [
    {
     "name": "stdin",
     "output_type": "stream",
     "text": [
      "please enter the year 2011\n",
      "please enter the month 4\n"
     ]
    },
    {
     "name": "stdout",
     "output_type": "stream",
     "text": [
      "     April 2011\n",
      "Mo Tu We Th Fr Sa Su\n",
      "             1  2  3\n",
      " 4  5  6  7  8  9 10\n",
      "11 12 13 14 15 16 17\n",
      "18 19 20 21 22 23 24\n",
      "25 26 27 28 29 30\n",
      "\n"
     ]
    }
   ],
   "source": [
    "import calendar\n",
    "a= int (input(\"please enter the year\"))\n",
    "b= int (input(\"please enter the month\"))\n",
    "\n",
    "print(calendar.month(a,b))"
   ]
  },
  {
   "cell_type": "code",
   "execution_count": null,
   "id": "13989645-5fed-4687-8803-afdb7603fc60",
   "metadata": {},
   "outputs": [],
   "source": []
  },
  {
   "cell_type": "markdown",
   "id": "db2bf0f7",
   "metadata": {
    "id": "db2bf0f7"
   },
   "source": [
    "### 4. Write a Python program to solve quadratic equation?"
   ]
  },
  {
   "cell_type": "code",
   "execution_count": 14,
   "id": "7fa559c8-5f45-491d-aa6e-2cafae2d289b",
   "metadata": {},
   "outputs": [
    {
     "name": "stdin",
     "output_type": "stream",
     "text": [
      "please enter a 1\n",
      "please enter b 5\n",
      "please enter c 6\n"
     ]
    },
    {
     "name": "stdout",
     "output_type": "stream",
     "text": [
      "The roots are\n",
      "(-3+0j)\n",
      "(-2+0j)\n"
     ]
    }
   ],
   "source": [
    " import cmath\n",
    "  \n",
    "a = int (input(\"please enter a\"))\n",
    "b = int (input(\"please enter b\"))\n",
    "c = int (input(\"please enter c\"))\n",
    "  \n",
    "# calculating  the discriminant\n",
    "dis = (b**2) - (4 * a*c)\n",
    "  \n",
    "# find two results\n",
    "ans1 = (-b-cmath.sqrt(dis))/(2 * a)\n",
    "ans2 = (-b + cmath.sqrt(dis))/(2 * a)\n",
    "  \n",
    "# printing the results\n",
    "print('The roots are')\n",
    "print(ans1)\n",
    "print(ans2)"
   ]
  },
  {
   "cell_type": "markdown",
   "id": "f70f74c9",
   "metadata": {
    "id": "f70f74c9"
   },
   "source": [
    "5. Write a Python program to swap two variables without temp variable?"
   ]
  },
  {
   "cell_type": "code",
   "execution_count": 9,
   "id": "efe943e0-37ec-444c-874d-6860300c522b",
   "metadata": {},
   "outputs": [
    {
     "name": "stdin",
     "output_type": "stream",
     "text": [
      "Please enter 1st variable 1\n",
      "Please enter 2nd variable 2\n"
     ]
    },
    {
     "name": "stdout",
     "output_type": "stream",
     "text": [
      "2 1\n"
     ]
    }
   ],
   "source": [
    "a= input(\"Please enter 1st variable\")\n",
    "b= input(\"Please enter 2nd variable\")\n",
    "\n",
    "def swap(n,m):\n",
    "    n,m=m,n\n",
    "    \n",
    "    print(n,m)\n",
    "    \n",
    "\n",
    "swap(a,b)"
   ]
  },
  {
   "cell_type": "code",
   "execution_count": null,
   "id": "642a19d7-2969-4fea-9a26-537d7e8c80ed",
   "metadata": {},
   "outputs": [],
   "source": []
  }
 ],
 "metadata": {
  "colab": {
   "provenance": []
  },
  "kernelspec": {
   "display_name": "Python 3 (ipykernel)",
   "language": "python",
   "name": "python3"
  },
  "language_info": {
   "codemirror_mode": {
    "name": "ipython",
    "version": 3
   },
   "file_extension": ".py",
   "mimetype": "text/x-python",
   "name": "python",
   "nbconvert_exporter": "python",
   "pygments_lexer": "ipython3",
   "version": "3.10.6"
  }
 },
 "nbformat": 4,
 "nbformat_minor": 5
}
